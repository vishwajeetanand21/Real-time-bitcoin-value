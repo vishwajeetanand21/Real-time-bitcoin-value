{
 "cells": [
  {
   "cell_type": "markdown",
   "id": "81b34991",
   "metadata": {},
   "source": [
    "# Real-Time-Bitcoin-Value "
   ]
  },
  {
   "cell_type": "code",
   "execution_count": 2,
   "id": "6e135b75",
   "metadata": {},
   "outputs": [],
   "source": [
    "#importing requests\n",
    "import requests"
   ]
  },
  {
   "cell_type": "code",
   "execution_count": 3,
   "id": "c0a5feec",
   "metadata": {},
   "outputs": [],
   "source": [
    "#Storing the url of API in a variable\n",
    "bitcoin_url='https://blockchain.info/ticker'"
   ]
  },
  {
   "cell_type": "code",
   "execution_count": 4,
   "id": "b93a6bb8",
   "metadata": {},
   "outputs": [
    {
     "data": {
      "text/plain": [
       "<Response [200]>"
      ]
     },
     "execution_count": 4,
     "metadata": {},
     "output_type": "execute_result"
    }
   ],
   "source": [
    "#let's check whether the connection is established successfully or not?\n",
    "requests.get(bitcoin_url)\n",
    "#If the response is 200 then it is okay, if the response is 404 then error, 503 means bad gateway"
   ]
  },
  {
   "cell_type": "code",
   "execution_count": 5,
   "id": "1581ae68",
   "metadata": {},
   "outputs": [],
   "source": [
    "#storing the response in a variable\n",
    "myResponse=requests.get(bitcoin_url)"
   ]
  },
  {
   "cell_type": "code",
   "execution_count": 6,
   "id": "8b940fb1",
   "metadata": {},
   "outputs": [],
   "source": [
    "#storing the value of all currency and their values\n",
    "#in the form of key:value pair just like dictionaries\n",
    "data=myResponse.json()"
   ]
  },
  {
   "cell_type": "code",
   "execution_count": 7,
   "id": "9804f203",
   "metadata": {},
   "outputs": [
    {
     "data": {
      "text/plain": [
       "{'ARS': {'15m': 7999090.84,\n",
       "  'last': 7999090.84,\n",
       "  'buy': 7999090.84,\n",
       "  'sell': 7999090.84,\n",
       "  'symbol': 'ARS'},\n",
       " 'AUD': {'15m': 54011.21,\n",
       "  'last': 54011.21,\n",
       "  'buy': 54011.21,\n",
       "  'sell': 54011.21,\n",
       "  'symbol': 'AUD'},\n",
       " 'BRL': {'15m': 194025.72,\n",
       "  'last': 194025.72,\n",
       "  'buy': 194025.72,\n",
       "  'sell': 194025.72,\n",
       "  'symbol': 'BRL'},\n",
       " 'CAD': {'15m': 49387.53,\n",
       "  'last': 49387.53,\n",
       "  'buy': 49387.53,\n",
       "  'sell': 49387.53,\n",
       "  'symbol': 'CAD'},\n",
       " 'CHF': {'15m': 37265.84,\n",
       "  'last': 37265.84,\n",
       "  'buy': 37265.84,\n",
       "  'sell': 37265.84,\n",
       "  'symbol': 'CHF'},\n",
       " 'CLP': {'15m': 32969394.27,\n",
       "  'last': 32969394.27,\n",
       "  'buy': 32969394.27,\n",
       "  'sell': 32969394.27,\n",
       "  'symbol': 'CLP'},\n",
       " 'CNY': {'15m': 259968.33,\n",
       "  'last': 259968.33,\n",
       "  'buy': 259968.33,\n",
       "  'sell': 259968.33,\n",
       "  'symbol': 'CNY'},\n",
       " 'CZK': {'15m': 895991.86,\n",
       "  'last': 895991.86,\n",
       "  'buy': 895991.86,\n",
       "  'sell': 895991.86,\n",
       "  'symbol': 'CZK'},\n",
       " 'DKK': {'15m': 311520.08,\n",
       "  'last': 311520.08,\n",
       "  'buy': 311520.08,\n",
       "  'sell': 311520.08,\n",
       "  'symbol': 'DKK'},\n",
       " 'EUR': {'15m': 36549.81,\n",
       "  'last': 36549.81,\n",
       "  'buy': 36549.81,\n",
       "  'sell': 36549.81,\n",
       "  'symbol': 'EUR'},\n",
       " 'GBP': {'15m': 30745.84,\n",
       "  'last': 30745.84,\n",
       "  'buy': 30745.84,\n",
       "  'sell': 30745.84,\n",
       "  'symbol': 'GBP'},\n",
       " 'HKD': {'15m': 309752.89,\n",
       "  'last': 309752.89,\n",
       "  'buy': 309752.89,\n",
       "  'sell': 309752.89,\n",
       "  'symbol': 'HKD'},\n",
       " 'HRK': {'15m': 274218.06,\n",
       "  'last': 274218.06,\n",
       "  'buy': 274218.06,\n",
       "  'sell': 274218.06,\n",
       "  'symbol': 'HRK'},\n",
       " 'HUF': {'15m': 14852838.14,\n",
       "  'last': 14852838.14,\n",
       "  'buy': 14852838.14,\n",
       "  'sell': 14852838.14,\n",
       "  'symbol': 'HUF'},\n",
       " 'INR': {'15m': 3184772.23,\n",
       "  'last': 3184772.23,\n",
       "  'buy': 3184772.23,\n",
       "  'sell': 3184772.23,\n",
       "  'symbol': 'INR'},\n",
       " 'ISK': {'15m': 5805574.96,\n",
       "  'last': 5805574.96,\n",
       "  'buy': 5805574.96,\n",
       "  'sell': 5805574.96,\n",
       "  'symbol': 'ISK'},\n",
       " 'JPY': {'15m': 4933749.98,\n",
       "  'last': 4933749.98,\n",
       "  'buy': 4933749.98,\n",
       "  'sell': 4933749.98,\n",
       "  'symbol': 'JPY'},\n",
       " 'KRW': {'15m': 49052693.23,\n",
       "  'last': 49052693.23,\n",
       "  'buy': 49052693.23,\n",
       "  'sell': 49052693.23,\n",
       "  'symbol': 'KRW'},\n",
       " 'NZD': {'15m': 59032.38,\n",
       "  'last': 59032.38,\n",
       "  'buy': 59032.38,\n",
       "  'sell': 59032.38,\n",
       "  'symbol': 'NZD'},\n",
       " 'PLN': {'15m': 171739.2,\n",
       "  'last': 171739.2,\n",
       "  'buy': 171739.2,\n",
       "  'sell': 171739.2,\n",
       "  'symbol': 'PLN'},\n",
       " 'RON': {'15m': 170433.94,\n",
       "  'last': 170433.94,\n",
       "  'buy': 170433.94,\n",
       "  'sell': 170433.94,\n",
       "  'symbol': 'RON'},\n",
       " 'RUB': {'15m': 2877574.46,\n",
       "  'last': 2877574.46,\n",
       "  'buy': 2877574.46,\n",
       "  'sell': 2877574.46,\n",
       "  'symbol': 'RUB'},\n",
       " 'SEK': {'15m': 436895.13,\n",
       "  'last': 436895.13,\n",
       "  'buy': 436895.13,\n",
       "  'sell': 436895.13,\n",
       "  'symbol': 'SEK'},\n",
       " 'SGD': {'15m': 53780.08,\n",
       "  'last': 53780.08,\n",
       "  'buy': 53780.08,\n",
       "  'sell': 53780.08,\n",
       "  'symbol': 'SGD'},\n",
       " 'THB': {'15m': 1323658.33,\n",
       "  'last': 1323658.33,\n",
       "  'buy': 1323658.33,\n",
       "  'sell': 1323658.33,\n",
       "  'symbol': 'THB'},\n",
       " 'TRY': {'15m': 574437.42,\n",
       "  'last': 574437.42,\n",
       "  'buy': 574437.42,\n",
       "  'sell': 574437.42,\n",
       "  'symbol': 'TRY'},\n",
       " 'TWD': {'15m': 1375789.3,\n",
       "  'last': 1375789.3,\n",
       "  'buy': 1375789.3,\n",
       "  'sell': 1375789.3,\n",
       "  'symbol': 'TWD'},\n",
       " 'USD': {'15m': 38493.79,\n",
       "  'last': 38493.79,\n",
       "  'buy': 38493.79,\n",
       "  'sell': 38493.79,\n",
       "  'symbol': 'USD'}}"
      ]
     },
     "execution_count": 7,
     "metadata": {},
     "output_type": "execute_result"
    }
   ],
   "source": [
    "data"
   ]
  },
  {
   "cell_type": "code",
   "execution_count": 8,
   "id": "9f25bead",
   "metadata": {},
   "outputs": [
    {
     "data": {
      "text/plain": [
       "{'15m': 3184772.23,\n",
       " 'last': 3184772.23,\n",
       " 'buy': 3184772.23,\n",
       " 'sell': 3184772.23,\n",
       " 'symbol': 'INR'}"
      ]
     },
     "execution_count": 8,
     "metadata": {},
     "output_type": "execute_result"
    }
   ],
   "source": [
    "#Value of 1 bitcoin in Indian National Rupees\n",
    "data['INR']"
   ]
  },
  {
   "cell_type": "code",
   "execution_count": 9,
   "id": "63630a8f",
   "metadata": {},
   "outputs": [
    {
     "data": {
      "text/plain": [
       "{'15m': 38493.79,\n",
       " 'last': 38493.79,\n",
       " 'buy': 38493.79,\n",
       " 'sell': 38493.79,\n",
       " 'symbol': 'USD'}"
      ]
     },
     "execution_count": 9,
     "metadata": {},
     "output_type": "execute_result"
    }
   ],
   "source": [
    "#Value of 1 bitcoin in United States Dollar\n",
    "data['USD']"
   ]
  },
  {
   "cell_type": "code",
   "execution_count": 10,
   "id": "9e4f33c6",
   "metadata": {},
   "outputs": [
    {
     "data": {
      "text/plain": [
       "{'15m': 54011.21,\n",
       " 'last': 54011.21,\n",
       " 'buy': 54011.21,\n",
       " 'sell': 54011.21,\n",
       " 'symbol': 'AUD'}"
      ]
     },
     "execution_count": 10,
     "metadata": {},
     "output_type": "execute_result"
    }
   ],
   "source": [
    "#Value of 1 bitcoin in Australian dollar\n",
    "data['AUD']"
   ]
  },
  {
   "cell_type": "markdown",
   "id": "ad5209d2",
   "metadata": {},
   "source": [
    "# Converting Bitcoin to User's currency"
   ]
  },
  {
   "cell_type": "code",
   "execution_count": 11,
   "id": "09c0bd5d",
   "metadata": {},
   "outputs": [
    {
     "name": "stdout",
     "output_type": "stream",
     "text": [
      "Enter your currency codeinr\n"
     ]
    },
    {
     "data": {
      "text/plain": [
       "'INR'"
      ]
     },
     "execution_count": 11,
     "metadata": {},
     "output_type": "execute_result"
    }
   ],
   "source": [
    "userCurrency=input(\"Enter your currency code\")\n",
    "#since all code are in upper case we have to convert the user's code to upper case\n",
    "userCurrency=userCurrency.upper()\n",
    "userCurrency"
   ]
  },
  {
   "cell_type": "code",
   "execution_count": 12,
   "id": "9bccb3e8",
   "metadata": {},
   "outputs": [
    {
     "name": "stdout",
     "output_type": "stream",
     "text": [
      "The value of 1 Bitcoin in INR is 3184772.23\n"
     ]
    }
   ],
   "source": [
    "result=data[userCurrency]['buy']\n",
    "print(\"The value of 1 Bitcoin in {} is {}\".format(userCurrency,result))"
   ]
  },
  {
   "cell_type": "markdown",
   "id": "6902f570",
   "metadata": {},
   "source": [
    "# Updating the value of Bitcoin after every 5 seconds"
   ]
  },
  {
   "cell_type": "code",
   "execution_count": 13,
   "id": "5e27635c",
   "metadata": {},
   "outputs": [
    {
     "data": {
      "text/plain": [
       "'To learn more about time module go this this website\\nhttps://www.geeksforgeeks.org/python-time-module/\\n'"
      ]
     },
     "execution_count": 13,
     "metadata": {},
     "output_type": "execute_result"
    }
   ],
   "source": [
    "'''To learn more about time module go this this website\n",
    "https://www.geeksforgeeks.org/python-time-module/\n",
    "'''"
   ]
  },
  {
   "cell_type": "code",
   "execution_count": 14,
   "id": "f2c8c88c",
   "metadata": {},
   "outputs": [],
   "source": [
    "'''\n",
    "As the name suggests Python time module allows to work with time in Python. \n",
    "It allows functionality like getting the current time, pausing the Program from executing, etc. \n",
    "So before starting with this module we need to import it. \n",
    "The time module comes with Python’s standard utility module, so there is no need to install it externally. \n",
    "We can simply import it using the import statement.\n",
    "'''\n",
    "import time"
   ]
  },
  {
   "cell_type": "code",
   "execution_count": 15,
   "id": "9de0137a",
   "metadata": {},
   "outputs": [
    {
     "name": "stdout",
     "output_type": "stream",
     "text": [
      "Current time in seconds since epoch (1 January, 1970) = 1651070123.7513125\n"
     ]
    }
   ],
   "source": [
    "#Current time in seconds\n",
    "curr = time.time()\n",
    "print(\"Current time in seconds since epoch (1 January, 1970) =\", curr)\n",
    "#here epoch is 1 January 1970, so it means it is this much seconds from 1 january 1970"
   ]
  },
  {
   "cell_type": "code",
   "execution_count": 16,
   "id": "db8f76cb",
   "metadata": {},
   "outputs": [
    {
     "name": "stdout",
     "output_type": "stream",
     "text": [
      "Current time: Wed Apr 27 20:05:23 2022\n"
     ]
    }
   ],
   "source": [
    "# getting current time by passing\n",
    "# the number of seconds since epoch\n",
    "\n",
    "'''time.ctime() function returns a 24 character time string but takes seconds as argument \n",
    "and computes time till mentioned seconds.\n",
    "If no argument is passed, time is calculated till the present.'''\n",
    "\n",
    "currTime = time.ctime(curr)\n",
    "print(\"Current time:\", currTime)\n"
   ]
  },
  {
   "cell_type": "markdown",
   "id": "982f6f33",
   "metadata": {},
   "source": [
    "# How to add delay in python"
   ]
  },
  {
   "cell_type": "code",
   "execution_count": 17,
   "id": "01195f55",
   "metadata": {},
   "outputs": [],
   "source": [
    "#You can refer to this website for more clarification\n",
    "#https://www.geeksforgeeks.org/how-to-add-time-delay-in-python/"
   ]
  },
  {
   "cell_type": "code",
   "execution_count": 18,
   "id": "4e651ca7",
   "metadata": {},
   "outputs": [
    {
     "name": "stdout",
     "output_type": "stream",
     "text": [
      "Printing the pattern\n",
      "*  \n",
      "* *  \n",
      "* * *  \n",
      "* * * *  \n",
      "* * * * *  \n"
     ]
    }
   ],
   "source": [
    "#Take this function as a reference\n",
    "# function to print the pattern\n",
    "def pattern(n):\n",
    "    \n",
    "    for i in range(0, n):\n",
    "        for j in range(0, i+1):\n",
    "            \n",
    "            print('*', end=' ')\n",
    "              \n",
    "            # adding two second of time delay\n",
    "            time.sleep(0.5)#half seconds\n",
    "        print(' ')\n",
    "  \n",
    "  \n",
    "# main function\n",
    "if __name__ == '__main__':\n",
    "    \n",
    "    # taking range from the user\n",
    "    num = 5\n",
    "    print(\"Printing the pattern\")\n",
    "      \n",
    "    # calling function to print the pattern\n",
    "    pattern(num)"
   ]
  },
  {
   "cell_type": "markdown",
   "id": "25f1d0c7",
   "metadata": {},
   "source": [
    "# Therefor to update the value of bitcoin after avery 5 seconds we have to use time.sleep() function"
   ]
  },
  {
   "cell_type": "code",
   "execution_count": 21,
   "id": "cd0881ac",
   "metadata": {},
   "outputs": [
    {
     "name": "stdout",
     "output_type": "stream",
     "text": [
      "Enter your currency codeinr\n",
      "You have entered INR Code\n",
      "2022-04-27 20:07:33\n",
      "The value of 1 Bitcoin in INR is 3183115.25 at 2022-04-27 20:07:34\n",
      "The value of 1 Bitcoin in INR is 3183217.32 at 2022-04-27 20:07:40\n",
      "The value of 1 Bitcoin in INR is 3178985.85 at 2022-04-27 20:07:45\n",
      "The value of 1 Bitcoin in INR is 3178985.85 at 2022-04-27 20:07:50\n",
      "The value of 1 Bitcoin in INR is 3178985.85 at 2022-04-27 20:07:56\n",
      "The value of 1 Bitcoin in INR is 3183217.32 at 2022-04-27 20:08:01\n",
      "The value of 1 Bitcoin in INR is 3178985.85 at 2022-04-27 20:08:06\n",
      "The value of 1 Bitcoin in INR is 3183217.32 at 2022-04-27 20:08:11\n",
      "The value of 1 Bitcoin in INR is 3188191.1 at 2022-04-27 20:08:17\n",
      "The value of 1 Bitcoin in INR is 3183217.32 at 2022-04-27 20:08:22\n",
      "Bitcoin value in last 50 seconds\n"
     ]
    }
   ],
   "source": [
    "import time\n",
    "import requests\n",
    "from datetime import datetime #module to get the current date and time\n",
    "\n",
    "userCurrency=input(\"Enter your currency code\")#asking user to input his/her currency\n",
    "#since all code are in upper case we have to convert the user's code to upper case\n",
    "userCurrency=userCurrency.upper()\n",
    "print(\"You have entered {} Code\".format(userCurrency))\n",
    "myDate=datetime.now().strftime('%Y-%m-%d %H:%M:%S')#current date and time\n",
    "print(myDate)\n",
    "\n",
    "i=0\n",
    "while(i<10):#this loop will run for 10 time with a delay of 5 seconds\n",
    "    myResponse=requests.get(bitcoin_url)#storing the value of updated response from the above mentioned API \n",
    "    data=myResponse.json()#storing the data of updated response\n",
    "    result=data[userCurrency]['buy'] #the price of each bitcoin\n",
    "    myDate=datetime.now().strftime('%Y-%m-%d %H:%M:%S')#current date and time\n",
    "    print(\"The value of 1 Bitcoin in {} is {} at {}\".format(userCurrency,result,myDate))#printing the updated value of bitcoin and current date and time\n",
    "    time.sleep(5) #our loop will have a halt for 5 seconds\n",
    "    i+=1\n",
    "print(\"Bitcoin value in last 50 seconds\")"
   ]
  },
  {
   "cell_type": "code",
   "execution_count": null,
   "id": "981cd54f",
   "metadata": {},
   "outputs": [],
   "source": []
  }
 ],
 "metadata": {
  "kernelspec": {
   "display_name": "Python 3 (ipykernel)",
   "language": "python",
   "name": "python3"
  },
  "language_info": {
   "codemirror_mode": {
    "name": "ipython",
    "version": 3
   },
   "file_extension": ".py",
   "mimetype": "text/x-python",
   "name": "python",
   "nbconvert_exporter": "python",
   "pygments_lexer": "ipython3",
   "version": "3.9.7"
  }
 },
 "nbformat": 4,
 "nbformat_minor": 5
}
