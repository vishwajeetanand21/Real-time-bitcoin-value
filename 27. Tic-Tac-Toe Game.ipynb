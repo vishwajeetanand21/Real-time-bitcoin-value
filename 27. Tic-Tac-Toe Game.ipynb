{
 "cells": [
  {
   "cell_type": "markdown",
   "id": "a1c4312d",
   "metadata": {},
   "source": [
    "# Tic-Tac-Toe"
   ]
  },
  {
   "cell_type": "code",
   "execution_count": null,
   "id": "3218a35b",
   "metadata": {},
   "outputs": [],
   "source": [
    "'''\n",
    "Part A:\n",
    "->create a board of Tic-tac-toe that looks like this\n",
    "X| |\n",
    " |O|\n",
    " | |X\n",
    " \n",
    "->First user can enter a space between 1-9 then X will appear on that index\n",
    "->Second user can enter a space between 1-9 then O will appear on that index\n",
    " '''"
   ]
  },
  {
   "cell_type": "markdown",
   "id": "1bc2a0ff",
   "metadata": {},
   "source": [
    "# Storing names of the users "
   ]
  },
  {
   "cell_type": "code",
   "execution_count": 42,
   "id": "30edc3cc",
   "metadata": {},
   "outputs": [
    {
     "name": "stdout",
     "output_type": "stream",
     "text": [
      "Enter your name! Anand\n",
      "Enter your name! Laxmi\n"
     ]
    }
   ],
   "source": [
    "player1=input(\"Enter your name! \")\n",
    "player2=input(\"Enter your name! \")"
   ]
  },
  {
   "cell_type": "markdown",
   "id": "5aff8d6b",
   "metadata": {},
   "source": [
    "# Initializing our array"
   ]
  },
  {
   "cell_type": "code",
   "execution_count": 47,
   "id": "304fc8df",
   "metadata": {},
   "outputs": [],
   "source": [
    "values=[\" \",\" \",\" \",\" \",\" \",\" \",\" \",\" \",\" \"]"
   ]
  },
  {
   "cell_type": "markdown",
   "id": "4d40565e",
   "metadata": {},
   "source": [
    "# Function to print our Tic-Tac-Toe Board"
   ]
  },
  {
   "cell_type": "code",
   "execution_count": 48,
   "id": "4a71e3b4",
   "metadata": {},
   "outputs": [],
   "source": [
    "def printBoard(values):\n",
    "    print(\"{}|{}|{}\".format(values[0],values[1],values[2]))\n",
    "    print(\"{}|{}|{}\".format(values[3],values[4],values[5]))\n",
    "    print(\"{}|{}|{}\".format(values[6],values[7],values[8]))\n"
   ]
  },
  {
   "cell_type": "markdown",
   "id": "e7d4cb3a",
   "metadata": {},
   "source": [
    "# Functio to check the winner"
   ]
  },
  {
   "cell_type": "code",
   "execution_count": 49,
   "id": "479b7c1a",
   "metadata": {},
   "outputs": [],
   "source": [
    "def checkWinner(values):\n",
    "    #horizontal for x\n",
    "    if( (values[0]==\"X\" and values[1]==\"X\" and values[2]==\"X\") or\n",
    "        (values[3]==\"X\" and values[4]==\"X\" and values[5]==\"X\") or\n",
    "        (values[6]==\"X\" and values[7]==\"X\" and values[8]==\"X\")\n",
    "      ):\n",
    "        print(\"Game Over\")\n",
    "        return True\n",
    "    \n",
    "    #vertical for x\n",
    "    elif( (values[0]==\"X\" and values[3]==\"X\" and values[6]==\"X\") or\n",
    "          (values[1]==\"X\" and values[4]==\"X\" and values[7]==\"X\") or\n",
    "          (values[2]==\"X\" and values[5]==\"X\" and values[8]==\"X\") \n",
    "        ):\n",
    "        print(\"Game Over\")\n",
    "        return True\n",
    "    \n",
    "    #diagonal for x\n",
    "    elif( (values[0]==\"X\" and values[4]==\"X\" and values[8]==\"X\") or\n",
    "          (values[2]==\"X\" and values[4]==\"X\" and values[6]==\"X\") \n",
    "        ):\n",
    "        print(\"Game Over\")\n",
    "        return True\n",
    "    \n",
    "    #horizontal for y\n",
    "    elif( (values[0]==\"O\" and values[1]==\"O\" and values[2]==\"O\") or\n",
    "        (values[3]==\"O\" and values[4]==\"O\" and values[5]==\"O\") or\n",
    "        (values[6]==\"O\" and values[7]==\"O\" and values[8]==\"O\")\n",
    "      ):\n",
    "        print(\"Game Over\")\n",
    "        return True\n",
    "    \n",
    "    #vertical for y\n",
    "    elif( (values[0]==\"O\" and values[3]==\"O\" and values[6]==\"O\") or\n",
    "          (values[1]==\"O\" and values[4]==\"O\" and values[7]==\"O\") or\n",
    "          (values[2]==\"O\" and values[5]==\"O\" and values[8]==\"O\") \n",
    "        ):\n",
    "        print(\"Game Over\")\n",
    "        return True\n",
    "    \n",
    "\n",
    "    #diagonal for O\n",
    "    elif( (values[0]==\"O\" and values[4]==\"O\" and values[8]==\"O\") or\n",
    "          (values[2]==\"O\" and values[4]==\"O\" and values[6]==\"O\") \n",
    "        ):\n",
    "        print(\"Game Over\")\n",
    "        return True\n",
    "    \n",
    "    \n",
    "    #No match\n",
    "    else:\n",
    "        return False\n",
    "\n",
    "    \n",
    "\n",
    "    "
   ]
  },
  {
   "cell_type": "markdown",
   "id": "b0f52923",
   "metadata": {},
   "source": [
    "# Main Function"
   ]
  },
  {
   "cell_type": "code",
   "execution_count": 50,
   "id": "b56340c0",
   "metadata": {},
   "outputs": [
    {
     "name": "stdout",
     "output_type": "stream",
     "text": [
      " | | \n",
      " | | \n",
      " | | \n",
      "Anand enter the position5\n",
      " | | \n",
      " |X| \n",
      " | | \n",
      "Laxmi enter the position1\n",
      "O| | \n",
      " |X| \n",
      " | | \n",
      "Anand enter the position9\n",
      "O| | \n",
      " |X| \n",
      " | |X\n",
      "Laxmi enter the position2\n",
      "O|O| \n",
      " |X| \n",
      " | |X\n",
      "Anand enter the position3\n",
      "O|O|X\n",
      " |X| \n",
      " | |X\n",
      "Laxmi enter the position7\n",
      "O|O|X\n",
      " |X| \n",
      "O| |X\n",
      "Anand enter the position4\n",
      "O|O|X\n",
      "X|X| \n",
      "O| |X\n",
      "Laxmi enter the position6\n",
      "O|O|X\n",
      "X|X|O\n",
      "O| |X\n"
     ]
    }
   ],
   "source": [
    "printBoard(values)#to print the board\n",
    "winner=False #if this variable is true that means we have got the winner\n",
    "X_turns=0 #total number of turn for this game is max 9\n",
    "Y_turns=0\n",
    "while(winner!=True  and X_turns<=4 and Y_turns<=3): #while we don't have a winner and number of turns is not 9\n",
    "    pos1=int(input(\"{} enter the position\".format(player1)))#player 1 will input the position\n",
    "    while(values[pos1-1]!=\" \" and X_turns<=4):#If that position is not empty, we will ask user to give new position\n",
    "        print(\"This space is already occupied!\")\n",
    "        pos1=int(input(\"{} enter the new position\".format(player1)))\n",
    "    #the space is empty\n",
    "    values[pos1-1]=\"X\"\n",
    "    X_turns+=1\n",
    "    printBoard(values)\n",
    "    winner=(checkWinner(values))\n",
    "    if winner==True:\n",
    "        print(\"{} Wins\".format(player1))\n",
    "        break\n",
    "    \n",
    "    \n",
    "    \n",
    "    pos2=int(input(\"{} enter the position\".format(player2)))\n",
    "    while(values[pos2-1]!=\" \" and Y_turns<=3):\n",
    "        print(\"This space is already occupied\")\n",
    "        pos2=int(input(\"{} enter the new position\".format(player2)))\n",
    "    values[pos2-1]=\"O\"\n",
    "    Y_turns+=1\n",
    "    printBoard(values)\n",
    "    winner=(checkWinner(values))\n",
    "    if winner==True:\n",
    "        print(\"{} Wins\".format(player2))\n",
    "        break    \n",
    "        \n",
    "        "
   ]
  },
  {
   "cell_type": "code",
   "execution_count": null,
   "id": "9ecebc35",
   "metadata": {},
   "outputs": [],
   "source": []
  },
  {
   "cell_type": "code",
   "execution_count": null,
   "id": "cf04f0a9",
   "metadata": {},
   "outputs": [],
   "source": []
  }
 ],
 "metadata": {
  "kernelspec": {
   "display_name": "Python 3 (ipykernel)",
   "language": "python",
   "name": "python3"
  },
  "language_info": {
   "codemirror_mode": {
    "name": "ipython",
    "version": 3
   },
   "file_extension": ".py",
   "mimetype": "text/x-python",
   "name": "python",
   "nbconvert_exporter": "python",
   "pygments_lexer": "ipython3",
   "version": "3.9.7"
  }
 },
 "nbformat": 4,
 "nbformat_minor": 5
}
